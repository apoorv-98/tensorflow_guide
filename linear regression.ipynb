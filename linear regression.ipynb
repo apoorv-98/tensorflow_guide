{
 "cells": [
  {
   "cell_type": "code",
   "execution_count": 10,
   "metadata": {},
   "outputs": [],
   "source": [
    "import tensorflow as tf\n",
    "import numpy\n",
    "import matplotlib.pyplot as plt\n",
    "import os"
   ]
  },
  {
   "cell_type": "code",
   "execution_count": 11,
   "metadata": {},
   "outputs": [],
   "source": [
    "# Parameters\n",
    "learning_rate = 0.01\n",
    "training_epochs = 1000\n",
    "display_step = 50"
   ]
  },
  {
   "cell_type": "code",
   "execution_count": 12,
   "metadata": {},
   "outputs": [
    {
     "name": "stdout",
     "output_type": "stream",
     "text": [
      "17\n"
     ]
    }
   ],
   "source": [
    "# Training Data\n",
    "train_X = numpy.asarray([3.3,4.4,5.5,6.71,6.93,4.168,9.779,6.182,7.59,2.167,\n",
    "                         7.042,10.791,5.313,7.997,5.654,9.27,3.1])\n",
    "train_Y = numpy.asarray([1.7,2.76,2.09,3.19,1.694,1.573,3.366,2.596,2.53,1.221,\n",
    "                         2.827,3.465,1.65,2.904,2.42,2.94,1.3])\n",
    "n_samples = train_X.shape[0]\n",
    "print(n_samples)"
   ]
  },
  {
   "cell_type": "code",
   "execution_count": 13,
   "metadata": {},
   "outputs": [],
   "source": [
    "# tf Graph Input\n",
    "X = tf.placeholder(\"float\")\n",
    "Y = tf.placeholder(\"float\")\n",
    "\n",
    "# Set model weights\n",
    "W = tf.Variable(numpy.random.randn(), name=\"weight\")\n",
    "b = tf.Variable(numpy.random.randn(), name=\"bias\")"
   ]
  },
  {
   "cell_type": "code",
   "execution_count": 14,
   "metadata": {},
   "outputs": [],
   "source": [
    "# Construct a linear model\n",
    "pred = tf.add(tf.multiply(X, W), b)"
   ]
  },
  {
   "cell_type": "code",
   "execution_count": 15,
   "metadata": {},
   "outputs": [],
   "source": [
    "# Mean squared error\n",
    "cost = tf.reduce_sum(tf.pow(pred-Y, 2))/(2*n_samples)"
   ]
  },
  {
   "cell_type": "code",
   "execution_count": 16,
   "metadata": {},
   "outputs": [],
   "source": [
    "optimizer = tf.train.GradientDescentOptimizer(learning_rate).minimize(cost)"
   ]
  },
  {
   "cell_type": "code",
   "execution_count": 17,
   "metadata": {},
   "outputs": [],
   "source": [
    "# Initialize the variables (i.e. assign their default value)\n",
    "init = tf.global_variables_initializer()"
   ]
  },
  {
   "cell_type": "code",
   "execution_count": 18,
   "metadata": {},
   "outputs": [
    {
     "name": "stdout",
     "output_type": "stream",
     "text": [
      "Epoch: 0050 cost= 0.156758323 W= 0.40755245 b= -0.334878\n",
      "Epoch: 0100 cost= 0.147539020 W= 0.39815786 b= -0.26729405\n",
      "Epoch: 0150 cost= 0.139384434 W= 0.38932204 b= -0.20372981\n",
      "Epoch: 0200 cost= 0.132171795 W= 0.3810117 b= -0.14394599\n",
      "Epoch: 0250 cost= 0.125792235 W= 0.37319562 b= -0.08771773\n",
      "Epoch: 0300 cost= 0.120149612 W= 0.36584446 b= -0.034833726\n",
      "Epoch: 0350 cost= 0.115158878 W= 0.3589304 b= 0.014904996\n",
      "Epoch: 0400 cost= 0.110744677 W= 0.3524276 b= 0.061685607\n",
      "Epoch: 0450 cost= 0.106840461 W= 0.3463117 b= 0.10568396\n",
      "Epoch: 0500 cost= 0.103387386 W= 0.3405593 b= 0.14706545\n",
      "Epoch: 0550 cost= 0.100333303 W= 0.33514917 b= 0.18598567\n",
      "Epoch: 0600 cost= 0.097632132 W= 0.33006075 b= 0.22259136\n",
      "Epoch: 0650 cost= 0.095243171 W= 0.32527497 b= 0.25701964\n",
      "Epoch: 0700 cost= 0.093130261 W= 0.3207738 b= 0.289401\n",
      "Epoch: 0750 cost= 0.091261648 W= 0.31654033 b= 0.31985596\n",
      "Epoch: 0800 cost= 0.089608997 W= 0.31255877 b= 0.34849942\n",
      "Epoch: 0850 cost= 0.088147417 W= 0.3088139 b= 0.37544\n",
      "Epoch: 0900 cost= 0.086854838 W= 0.30529165 b= 0.4007786\n",
      "Epoch: 0950 cost= 0.085711785 W= 0.30197912 b= 0.42460883\n",
      "Epoch: 1000 cost= 0.084700882 W= 0.29886362 b= 0.44702223\n",
      "Optimization Finished!\n",
      "Training cost= 0.08470088 W= 0.29886362 b= 0.44702223 \n",
      "\n",
      "Testing... (Mean square loss Comparison)\n",
      "Testing cost= 0.07792305\n",
      "Absolute mean square loss difference: 0.0067778304\n"
     ]
    }
   ],
   "source": [
    "with tf.Session() as sess:\n",
    "\n",
    "    # Run the initializer\n",
    "    sess.run(init)\n",
    "\n",
    "    # Fit all training data\n",
    "    for epoch in range(training_epochs):\n",
    "        for (x, y) in zip(train_X, train_Y):\n",
    "            sess.run(optimizer, feed_dict={X: x, Y: y})\n",
    "\n",
    "        # Display logs per epoch step\n",
    "        if (epoch+1) % display_step == 0:\n",
    "            c = sess.run(cost, feed_dict={X: train_X, Y:train_Y})\n",
    "            print(\"Epoch:\", '%04d' % (epoch+1), \"cost=\", \"{:.9f}\".format(c), \\\n",
    "                \"W=\", sess.run(W), \"b=\", sess.run(b))\n",
    "    \"\"\"saver = tf.train.Saver()\n",
    "    for i, var in enumerate(saver._var_list):\n",
    "        print('Var {}: {}'.format(i, var))\n",
    "    saver.save(sess, os.path.join(os.getcwd(), 'f.ckpt'))\"\"\"\n",
    "\n",
    "    print(\"Optimization Finished!\")\n",
    "    training_cost = sess.run(cost, feed_dict={X: train_X, Y: train_Y})\n",
    "    print(\"Training cost=\", training_cost, \"W=\", sess.run(W), \"b=\", sess.run(b), '\\n')\n",
    "    test_X = numpy.asarray([6.83, 4.668, 8.9, 7.91, 5.7, 8.7, 3.1, 2.1])\n",
    "    test_Y = numpy.asarray([1.84, 2.273, 3.2, 2.831, 2.92, 3.24, 1.35, 1.03])\n",
    "    print(\"Testing... (Mean square loss Comparison)\")\n",
    "    testing_cost = sess.run(\n",
    "        tf.reduce_sum(tf.pow(pred - Y, 2)) / (2 * test_X.shape[0]),\n",
    "        feed_dict={X: test_X, Y: test_Y})  # same function as cost above\n",
    "    print(\"Testing cost=\", testing_cost)\n",
    "    print(\"Absolute mean square loss difference:\", abs(training_cost - testing_cost))"
   ]
  },
  {
   "cell_type": "code",
   "execution_count": null,
   "metadata": {},
   "outputs": [],
   "source": []
  },
  {
   "cell_type": "code",
   "execution_count": null,
   "metadata": {},
   "outputs": [],
   "source": []
  }
 ],
 "metadata": {
  "kernelspec": {
   "display_name": "Python 3",
   "language": "python",
   "name": "python3"
  },
  "language_info": {
   "codemirror_mode": {
    "name": "ipython",
    "version": 3
   },
   "file_extension": ".py",
   "mimetype": "text/x-python",
   "name": "python",
   "nbconvert_exporter": "python",
   "pygments_lexer": "ipython3",
   "version": "3.6.5"
  }
 },
 "nbformat": 4,
 "nbformat_minor": 2
}
