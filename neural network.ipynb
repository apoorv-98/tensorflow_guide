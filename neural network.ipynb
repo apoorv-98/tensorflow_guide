{
 "cells": [
  {
   "cell_type": "code",
   "execution_count": null,
   "metadata": {},
   "outputs": [],
   "source": []
  },
  {
   "cell_type": "code",
   "execution_count": 17,
   "metadata": {},
   "outputs": [
    {
     "name": "stdout",
     "output_type": "stream",
     "text": [
      "Successfully downloaded train-images-idx3-ubyte.gz 9912422 bytes.\n",
      "Extracting ./data/train-images-idx3-ubyte.gz\n",
      "Successfully downloaded train-labels-idx1-ubyte.gz 28881 bytes.\n",
      "Extracting ./data/train-labels-idx1-ubyte.gz\n",
      "Successfully downloaded t10k-images-idx3-ubyte.gz 1648877 bytes.\n",
      "Extracting ./data/t10k-images-idx3-ubyte.gz\n",
      "Successfully downloaded t10k-labels-idx1-ubyte.gz 4542 bytes.\n",
      "Extracting ./data/t10k-labels-idx1-ubyte.gz\n"
     ]
    }
   ],
   "source": [
    "from tensorflow.examples.tutorials.mnist import input_data\n",
    "mnist=input_data.read_data_sets(\"./data/\",one_hot=False)\n"
   ]
  },
  {
   "cell_type": "code",
   "execution_count": 18,
   "metadata": {},
   "outputs": [
    {
     "data": {
      "text/plain": [
       "'/home/apoorv/Desktop/tensorflow guide'"
      ]
     },
     "execution_count": 18,
     "metadata": {},
     "output_type": "execute_result"
    }
   ],
   "source": [
    "pwd"
   ]
  },
  {
   "cell_type": "code",
   "execution_count": 19,
   "metadata": {},
   "outputs": [],
   "source": [
    "import tensorflow as tf\n",
    "#parameter\n",
    "learning_rate=0.1\n",
    "num_step=1000\n",
    "batch_size=120\n",
    "display_step=100\n",
    "\n",
    "# network parameter\n",
    "num_input=784\n",
    "hidden_1=256\n",
    "hidden_2=256\n",
    "num_class=10\n",
    "\n"
   ]
  },
  {
   "cell_type": "code",
   "execution_count": 20,
   "metadata": {},
   "outputs": [],
   "source": [
    "def neural_net(x_dict):\n",
    "    # TF Estimator input is a dict, in case of multiple inputs\n",
    "    x=x_dict['images']\n",
    "    layer_1=tf.layers.dense(x, hidden_1)\n",
    "    layer_2=tf.layers.dense(layer_1, hidden_2)\n",
    "    out_layer=tf.layers.dense(layer_2,num_class)\n",
    "    return(out_layer)"
   ]
  },
  {
   "cell_type": "code",
   "execution_count": 21,
   "metadata": {},
   "outputs": [],
   "source": [
    "def model_fn(features,labels,mode):\n",
    "    logits=neural_net(features)\n",
    "    #predictions\n",
    "    pred_classes=tf.argmax(logits, axis=1)\n",
    "    pred_prob=tf.nn.softmax(logits)\n",
    "    # If prediction mode, early return\n",
    "    if(mode == tf.estimator.ModeKeys.PREDICT):\n",
    "        return tf.estimator.EstimatorSpec(mode, predictions=pred_classes)\n",
    "     # Define loss and optimizer\n",
    "    loss_op = tf.reduce_mean(tf.nn.sparse_softmax_cross_entropy_with_logits(logits=logits, labels=tf.cast(labels, dtype=tf.int32)))\n",
    "    optimizer = tf.train.GradientDescentOptimizer(learning_rate=learning_rate)\n",
    "    train_op = optimizer.minimize(loss_op,global_step=tf.train.get_global_step())\n",
    "    # Evaluate the accuracy of the model\n",
    "    acc_op = tf.metrics.accuracy(labels=labels, predictions=pred_classes)\n",
    "    \n",
    "    \n",
    "    # TF Estimators requires to return a EstimatorSpec, that specify\n",
    "    # the different ops for training, evaluating, ...\n",
    "    estim_specs = tf.estimator.EstimatorSpec(\n",
    "           mode=mode,\n",
    "           predictions=pred_classes,\n",
    "           loss=loss_op,\n",
    "           train_op=train_op,\n",
    "           eval_metric_ops={'accuracy': acc_op})\n",
    "    return(estim_specs)\n"
   ]
  },
  {
   "cell_type": "code",
   "execution_count": 22,
   "metadata": {},
   "outputs": [
    {
     "name": "stdout",
     "output_type": "stream",
     "text": [
      "INFO:tensorflow:Using default config.\n",
      "WARNING:tensorflow:Using temporary folder as model directory: /tmp/tmptfxmsyog\n",
      "INFO:tensorflow:Using config: {'_model_dir': '/tmp/tmptfxmsyog', '_tf_random_seed': None, '_save_summary_steps': 100, '_save_checkpoints_steps': None, '_save_checkpoints_secs': 600, '_session_config': None, '_keep_checkpoint_max': 5, '_keep_checkpoint_every_n_hours': 10000, '_log_step_count_steps': 100, '_train_distribute': None, '_device_fn': None, '_service': None, '_cluster_spec': <tensorflow.python.training.server_lib.ClusterSpec object at 0x7f5b73f0c6a0>, '_task_type': 'worker', '_task_id': 0, '_global_id_in_cluster': 0, '_master': '', '_evaluation_master': '', '_is_chief': True, '_num_ps_replicas': 0, '_num_worker_replicas': 1}\n",
      "INFO:tensorflow:Calling model_fn.\n",
      "INFO:tensorflow:Done calling model_fn.\n",
      "INFO:tensorflow:Create CheckpointSaverHook.\n",
      "INFO:tensorflow:Graph was finalized.\n",
      "INFO:tensorflow:Running local_init_op.\n",
      "INFO:tensorflow:Done running local_init_op.\n",
      "INFO:tensorflow:Saving checkpoints for 0 into /tmp/tmptfxmsyog/model.ckpt.\n",
      "INFO:tensorflow:loss = 2.2912664, step = 1\n",
      "INFO:tensorflow:global_step/sec: 142.059\n",
      "INFO:tensorflow:loss = 0.38463017, step = 101 (0.705 sec)\n",
      "INFO:tensorflow:global_step/sec: 146.819\n",
      "INFO:tensorflow:loss = 0.2904464, step = 201 (0.684 sec)\n",
      "INFO:tensorflow:global_step/sec: 135.96\n",
      "INFO:tensorflow:loss = 0.3476526, step = 301 (0.733 sec)\n",
      "INFO:tensorflow:global_step/sec: 150.254\n",
      "INFO:tensorflow:loss = 0.32374832, step = 401 (0.668 sec)\n",
      "INFO:tensorflow:global_step/sec: 148.47\n",
      "INFO:tensorflow:loss = 0.29930916, step = 501 (0.672 sec)\n",
      "INFO:tensorflow:global_step/sec: 137.474\n",
      "INFO:tensorflow:loss = 0.22296126, step = 601 (0.727 sec)\n",
      "INFO:tensorflow:global_step/sec: 148.356\n",
      "INFO:tensorflow:loss = 0.25738445, step = 701 (0.674 sec)\n",
      "INFO:tensorflow:global_step/sec: 148.709\n",
      "INFO:tensorflow:loss = 0.26396686, step = 801 (0.672 sec)\n",
      "INFO:tensorflow:global_step/sec: 134.207\n",
      "INFO:tensorflow:loss = 0.39956167, step = 901 (0.745 sec)\n",
      "INFO:tensorflow:Saving checkpoints for 1000 into /tmp/tmptfxmsyog/model.ckpt.\n",
      "INFO:tensorflow:Loss for final step: 0.3090825.\n"
     ]
    },
    {
     "data": {
      "text/plain": [
       "<tensorflow.python.estimator.estimator.Estimator at 0x7f5b7a31f630>"
      ]
     },
     "execution_count": 22,
     "metadata": {},
     "output_type": "execute_result"
    }
   ],
   "source": [
    "#build the model\n",
    "model=tf.estimator.Estimator(model_fn)\n",
    "\n",
    "#input function\n",
    "\n",
    "input_fn=tf.estimator.inputs.numpy_input_fn(x={'images':mnist.train.images}, y=mnist.train.labels, \n",
    "                                           batch_size =batch_size, num_epochs=None, shuffle=True)\n",
    "# train model\n",
    "model.train(input_fn, steps=num_step)"
   ]
  },
  {
   "cell_type": "code",
   "execution_count": 11,
   "metadata": {},
   "outputs": [
    {
     "name": "stdout",
     "output_type": "stream",
     "text": [
      "INFO:tensorflow:Calling model_fn.\n",
      "INFO:tensorflow:Done calling model_fn.\n",
      "INFO:tensorflow:Starting evaluation at 2019-06-27-20:15:52\n",
      "INFO:tensorflow:Graph was finalized.\n",
      "INFO:tensorflow:Restoring parameters from /tmp/tmpa4_hsxzj/model.ckpt-1000\n",
      "INFO:tensorflow:Running local_init_op.\n",
      "INFO:tensorflow:Done running local_init_op.\n",
      "INFO:tensorflow:Finished evaluation at 2019-06-27-20:15:52\n",
      "INFO:tensorflow:Saving dict for global step 1000: accuracy = 0.9184, global_step = 1000, loss = 0.28961325\n",
      "INFO:tensorflow:Saving 'checkpoint_path' summary for global step 1000: /tmp/tmpa4_hsxzj/model.ckpt-1000\n",
      "Testing Accuracy: 0.9184\n"
     ]
    }
   ],
   "source": [
    "# Evaluate the Model\n",
    "# Define the input function for evaluating\n",
    "input_fn = tf.estimator.inputs.numpy_input_fn(\n",
    "    x={'images': mnist.test.images}, y=mnist.test.labels,\n",
    "    batch_size=batch_size, shuffle=False)\n",
    "# Use the Estimator 'evaluate' method\n",
    "e = model.evaluate(input_fn)\n",
    "\n",
    "print(\"Testing Accuracy:\", e['accuracy'])"
   ]
  },
  {
   "cell_type": "code",
   "execution_count": 12,
   "metadata": {},
   "outputs": [
    {
     "name": "stdout",
     "output_type": "stream",
     "text": [
      "/home/apoorv/Desktop/tensorflow guide\n"
     ]
    }
   ],
   "source": [
    "import os\n",
    "print(os.getcwd())"
   ]
  },
  {
   "cell_type": "code",
   "execution_count": null,
   "metadata": {},
   "outputs": [],
   "source": []
  },
  {
   "cell_type": "code",
   "execution_count": 14,
   "metadata": {},
   "outputs": [
    {
     "ename": "TypeError",
     "evalue": "Required argument 'path' (pos 1) not found",
     "output_type": "error",
     "traceback": [
      "\u001b[0;31m---------------------------------------------------------------------------\u001b[0m",
      "\u001b[0;31mTypeError\u001b[0m                                 Traceback (most recent call last)",
      "\u001b[0;32m<ipython-input-14-7fa067cf4e7c>\u001b[0m in \u001b[0;36m<module>\u001b[0;34m()\u001b[0m\n\u001b[0;32m----> 1\u001b[0;31m \u001b[0mprint\u001b[0m\u001b[0;34m(\u001b[0m\u001b[0mos\u001b[0m\u001b[0;34m.\u001b[0m\u001b[0mchdir\u001b[0m\u001b[0;34m(\u001b[0m\u001b[0;34m)\u001b[0m\u001b[0;34m)\u001b[0m\u001b[0;34m\u001b[0m\u001b[0m\n\u001b[0m",
      "\u001b[0;31mTypeError\u001b[0m: Required argument 'path' (pos 1) not found"
     ]
    }
   ],
   "source": []
  },
  {
   "cell_type": "code",
   "execution_count": null,
   "metadata": {},
   "outputs": [],
   "source": []
  }
 ],
 "metadata": {
  "kernelspec": {
   "display_name": "Python 3",
   "language": "python",
   "name": "python3"
  },
  "language_info": {
   "codemirror_mode": {
    "name": "ipython",
    "version": 3
   },
   "file_extension": ".py",
   "mimetype": "text/x-python",
   "name": "python",
   "nbconvert_exporter": "python",
   "pygments_lexer": "ipython3",
   "version": "3.6.5"
  }
 },
 "nbformat": 4,
 "nbformat_minor": 2
}
