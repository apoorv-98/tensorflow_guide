{
 "cells": [
  {
   "cell_type": "code",
   "execution_count": 1,
   "metadata": {},
   "outputs": [
    {
     "name": "stderr",
     "output_type": "stream",
     "text": [
      "/home/apoorv/anaconda3/lib/python3.6/site-packages/h5py/__init__.py:36: FutureWarning: Conversion of the second argument of issubdtype from `float` to `np.floating` is deprecated. In future, it will be treated as `np.float64 == np.dtype(float).type`.\n",
      "  from ._conv import register_converters as _register_converters\n"
     ]
    },
    {
     "name": "stdout",
     "output_type": "stream",
     "text": [
      "WARNING:tensorflow:From <ipython-input-1-772895d0a201>:2: read_data_sets (from tensorflow.contrib.learn.python.learn.datasets.mnist) is deprecated and will be removed in a future version.\n",
      "Instructions for updating:\n",
      "Please use alternatives such as official/mnist/dataset.py from tensorflow/models.\n",
      "WARNING:tensorflow:From /home/apoorv/anaconda3/lib/python3.6/site-packages/tensorflow/contrib/learn/python/learn/datasets/mnist.py:260: maybe_download (from tensorflow.contrib.learn.python.learn.datasets.base) is deprecated and will be removed in a future version.\n",
      "Instructions for updating:\n",
      "Please write your own downloading logic.\n",
      "WARNING:tensorflow:From /home/apoorv/anaconda3/lib/python3.6/site-packages/tensorflow/contrib/learn/python/learn/datasets/base.py:252: _internal_retry.<locals>.wrap.<locals>.wrapped_fn (from tensorflow.contrib.learn.python.learn.datasets.base) is deprecated and will be removed in a future version.\n",
      "Instructions for updating:\n",
      "Please use urllib or similar directly.\n",
      "Successfully downloaded train-images-idx3-ubyte.gz 9912422 bytes.\n",
      "WARNING:tensorflow:From /home/apoorv/anaconda3/lib/python3.6/site-packages/tensorflow/contrib/learn/python/learn/datasets/mnist.py:262: extract_images (from tensorflow.contrib.learn.python.learn.datasets.mnist) is deprecated and will be removed in a future version.\n",
      "Instructions for updating:\n",
      "Please use tf.data to implement this functionality.\n",
      "Extracting /tmp/data/train-images-idx3-ubyte.gz\n",
      "Successfully downloaded train-labels-idx1-ubyte.gz 28881 bytes.\n",
      "WARNING:tensorflow:From /home/apoorv/anaconda3/lib/python3.6/site-packages/tensorflow/contrib/learn/python/learn/datasets/mnist.py:267: extract_labels (from tensorflow.contrib.learn.python.learn.datasets.mnist) is deprecated and will be removed in a future version.\n",
      "Instructions for updating:\n",
      "Please use tf.data to implement this functionality.\n",
      "Extracting /tmp/data/train-labels-idx1-ubyte.gz\n",
      "Successfully downloaded t10k-images-idx3-ubyte.gz 1648877 bytes.\n",
      "Extracting /tmp/data/t10k-images-idx3-ubyte.gz\n",
      "Successfully downloaded t10k-labels-idx1-ubyte.gz 4542 bytes.\n",
      "Extracting /tmp/data/t10k-labels-idx1-ubyte.gz\n",
      "WARNING:tensorflow:From /home/apoorv/anaconda3/lib/python3.6/site-packages/tensorflow/contrib/learn/python/learn/datasets/mnist.py:290: DataSet.__init__ (from tensorflow.contrib.learn.python.learn.datasets.mnist) is deprecated and will be removed in a future version.\n",
      "Instructions for updating:\n",
      "Please use alternatives such as official/mnist/dataset.py from tensorflow/models.\n"
     ]
    }
   ],
   "source": [
    "from tensorflow.examples.tutorials.mnist import input_data\n",
    "mnist=input_data.read_data_sets(\"/tmp/data/\", one_hot=False)"
   ]
  },
  {
   "cell_type": "code",
   "execution_count": 2,
   "metadata": {},
   "outputs": [],
   "source": [
    "import tensorflow as tf\n",
    "# parameter\n",
    "learning_rate=0.001\n",
    "batch_size=120\n",
    "num_steps=2000"
   ]
  },
  {
   "cell_type": "code",
   "execution_count": 3,
   "metadata": {},
   "outputs": [],
   "source": [
    "# network parameter\n",
    "num_input=784\n",
    "num_classes=10\n",
    "dropout=0.25"
   ]
  },
  {
   "cell_type": "code",
   "execution_count": 4,
   "metadata": {},
   "outputs": [],
   "source": [
    "def conv_net(x_dict, n_classes, dropout, reuse, is_training):\n",
    "    with tf.variable_scope('ConvNet', reuse=reuse):\n",
    "        x=x_dict[\"images\"]\n",
    "        x=tf.reshape(x,shape=[-1,28,28,1])\n",
    "        conv1=tf.layers.conv2d(x, 32, 5, activation=tf.nn.relu)\n",
    "        conv1=tf.layers.max_pooling2d(conv1, 2, 2)\n",
    "        conv2=tf.layers.conv2d(conv1,64,3,activation=tf.nn.relu)\n",
    "        conv2=tf.layers.max_pooling2d(conv2, 2, 2)\n",
    "        fc1=tf.contrib.layers.flatten(conv2)\n",
    "        fc1=tf.layers.dense(fc1,1024)\n",
    "        fc1=tf.layers.dropout(fc1, rate= dropout, training=is_training )\n",
    "        out=tf.layers.dense(fc1,n_classes)\n",
    "    return(out)\n",
    "        \n",
    "        "
   ]
  },
  {
   "cell_type": "code",
   "execution_count": 5,
   "metadata": {},
   "outputs": [],
   "source": [
    "def model_fn(features ,labels, mode):\n",
    "    logits_train=conv_net(features,num_classes,dropout,reuse=False, is_training= True)\n",
    "    logits_test=conv_net(features,num_classes,dropout,reuse=True, is_training=False )\n",
    "    pred_classes=tf.argmax(logits_test, axis=1)\n",
    "    pred_prob=tf.nn.softmax(logits_test)\n",
    "    if mode == tf.estimator.ModeKeys.PREDICT:\n",
    "        return tf.estimator.EstimatorSpec(mode, predictions=pred_classes)\n",
    "    loss_op=tf.reduce_mean(tf.nn.sparse_softmax_cross_entropy_with_logits\n",
    "                           (logits=logits_train, labels=tf.cast(labels, dtype=tf.int32)))\n",
    "    optimizer=tf.train.AdamOptimizer(learning_rate=learning_rate)\n",
    "    train_op=optimizer.minimize(loss_op, global_step=tf.train.get_global_step())\n",
    "    acc_op=tf.metrics.accuracy(labels=labels, predictions=pred_classes)\n",
    "    estim_specs = tf.estimator.EstimatorSpec(\n",
    "        mode=mode,\n",
    "        predictions=pred_classes,\n",
    "        loss=loss_op,\n",
    "        train_op=train_op,\n",
    "        eval_metric_ops={'accuracy': acc_op})\n",
    "\n",
    "    return estim_specs"
   ]
  },
  {
   "cell_type": "code",
   "execution_count": 6,
   "metadata": {},
   "outputs": [
    {
     "name": "stdout",
     "output_type": "stream",
     "text": [
      "INFO:tensorflow:Using default config.\n",
      "WARNING:tensorflow:Using temporary folder as model directory: /tmp/tmpv8srqgt_\n",
      "INFO:tensorflow:Using config: {'_model_dir': '/tmp/tmpv8srqgt_', '_tf_random_seed': None, '_save_summary_steps': 100, '_save_checkpoints_steps': None, '_save_checkpoints_secs': 600, '_session_config': None, '_keep_checkpoint_max': 5, '_keep_checkpoint_every_n_hours': 10000, '_log_step_count_steps': 100, '_train_distribute': None, '_device_fn': None, '_service': None, '_cluster_spec': <tensorflow.python.training.server_lib.ClusterSpec object at 0x7f8ee560add8>, '_task_type': 'worker', '_task_id': 0, '_global_id_in_cluster': 0, '_master': '', '_evaluation_master': '', '_is_chief': True, '_num_ps_replicas': 0, '_num_worker_replicas': 1}\n",
      "INFO:tensorflow:Calling model_fn.\n",
      "INFO:tensorflow:Done calling model_fn.\n",
      "INFO:tensorflow:Create CheckpointSaverHook.\n",
      "INFO:tensorflow:Graph was finalized.\n",
      "INFO:tensorflow:Running local_init_op.\n",
      "INFO:tensorflow:Done running local_init_op.\n",
      "INFO:tensorflow:Saving checkpoints for 0 into /tmp/tmpv8srqgt_/model.ckpt.\n",
      "INFO:tensorflow:loss = 2.3298864, step = 1\n",
      "INFO:tensorflow:global_step/sec: 6.4667\n",
      "INFO:tensorflow:loss = 0.086002745, step = 101 (15.465 sec)\n",
      "INFO:tensorflow:global_step/sec: 6.57038\n",
      "INFO:tensorflow:loss = 0.10338676, step = 201 (15.220 sec)\n",
      "INFO:tensorflow:global_step/sec: 6.58996\n",
      "INFO:tensorflow:loss = 0.06878701, step = 301 (15.175 sec)\n",
      "INFO:tensorflow:global_step/sec: 6.60556\n",
      "INFO:tensorflow:loss = 0.034923386, step = 401 (15.139 sec)\n",
      "INFO:tensorflow:global_step/sec: 6.59867\n",
      "INFO:tensorflow:loss = 0.06379626, step = 501 (15.154 sec)\n",
      "INFO:tensorflow:global_step/sec: 6.59849\n",
      "INFO:tensorflow:loss = 0.04256325, step = 601 (15.155 sec)\n",
      "INFO:tensorflow:global_step/sec: 6.57735\n",
      "INFO:tensorflow:loss = 0.06724637, step = 701 (15.204 sec)\n",
      "INFO:tensorflow:global_step/sec: 6.59246\n",
      "INFO:tensorflow:loss = 0.007837532, step = 801 (15.169 sec)\n",
      "INFO:tensorflow:global_step/sec: 6.53658\n",
      "INFO:tensorflow:loss = 0.0338828, step = 901 (15.298 sec)\n",
      "INFO:tensorflow:global_step/sec: 6.60679\n",
      "INFO:tensorflow:loss = 0.016805883, step = 1001 (15.136 sec)\n",
      "INFO:tensorflow:global_step/sec: 6.60979\n",
      "INFO:tensorflow:loss = 0.025912723, step = 1101 (15.129 sec)\n",
      "INFO:tensorflow:global_step/sec: 6.62342\n",
      "INFO:tensorflow:loss = 0.029158691, step = 1201 (15.098 sec)\n",
      "INFO:tensorflow:global_step/sec: 6.62143\n",
      "INFO:tensorflow:loss = 0.003702938, step = 1301 (15.104 sec)\n",
      "INFO:tensorflow:global_step/sec: 6.5867\n",
      "INFO:tensorflow:loss = 0.014518001, step = 1401 (15.181 sec)\n",
      "INFO:tensorflow:global_step/sec: 6.61741\n",
      "INFO:tensorflow:loss = 0.13216399, step = 1501 (15.112 sec)\n",
      "INFO:tensorflow:global_step/sec: 6.61778\n",
      "INFO:tensorflow:loss = 0.031679034, step = 1601 (15.111 sec)\n",
      "INFO:tensorflow:global_step/sec: 6.56969\n",
      "INFO:tensorflow:loss = 0.0046910546, step = 1701 (15.221 sec)\n",
      "INFO:tensorflow:global_step/sec: 6.23188\n",
      "INFO:tensorflow:loss = 0.074617535, step = 1801 (16.049 sec)\n",
      "INFO:tensorflow:global_step/sec: 6.56501\n",
      "INFO:tensorflow:loss = 0.082683034, step = 1901 (15.232 sec)\n",
      "INFO:tensorflow:Saving checkpoints for 2000 into /tmp/tmpv8srqgt_/model.ckpt.\n",
      "INFO:tensorflow:Loss for final step: 0.04510599.\n"
     ]
    },
    {
     "data": {
      "text/plain": [
       "<tensorflow.python.estimator.estimator.Estimator at 0x7f8ee560a9e8>"
      ]
     },
     "execution_count": 6,
     "metadata": {},
     "output_type": "execute_result"
    }
   ],
   "source": [
    "model=tf.estimator.Estimator(model_fn)\n",
    "input_fn=tf.estimator.inputs.numpy_input_fn(x={'images':mnist.train.images}, y=mnist.train.labels, \n",
    "                                           batch_size=batch_size, num_epochs=20, shuffle=True)\n",
    "model.train(input_fn, steps=num_steps)"
   ]
  },
  {
   "cell_type": "code",
   "execution_count": 7,
   "metadata": {},
   "outputs": [
    {
     "name": "stdout",
     "output_type": "stream",
     "text": [
      "INFO:tensorflow:Calling model_fn.\n",
      "INFO:tensorflow:Done calling model_fn.\n",
      "INFO:tensorflow:Starting evaluation at 2019-07-05-11:20:00\n",
      "INFO:tensorflow:Graph was finalized.\n",
      "INFO:tensorflow:Restoring parameters from /tmp/tmpv8srqgt_/model.ckpt-2000\n",
      "INFO:tensorflow:Running local_init_op.\n",
      "INFO:tensorflow:Done running local_init_op.\n",
      "INFO:tensorflow:Finished evaluation at 2019-07-05-11:20:05\n",
      "INFO:tensorflow:Saving dict for global step 2000: accuracy = 0.9887, global_step = 2000, loss = 0.034726694\n",
      "INFO:tensorflow:Saving 'checkpoint_path' summary for global step 2000: /tmp/tmpv8srqgt_/model.ckpt-2000\n",
      "Testing Accuracy: 0.9887\n"
     ]
    }
   ],
   "source": [
    "input_fn = tf.estimator.inputs.numpy_input_fn(\n",
    "    x={'images': mnist.test.images}, y=mnist.test.labels,\n",
    "    batch_size=batch_size, shuffle=False)\n",
    "# Use the Estimator 'evaluate' method\n",
    "e = model.evaluate(input_fn)\n",
    "\n",
    "print(\"Testing Accuracy:\", e['accuracy'])"
   ]
  },
  {
   "cell_type": "code",
   "execution_count": null,
   "metadata": {},
   "outputs": [],
   "source": []
  }
 ],
 "metadata": {
  "kernelspec": {
   "display_name": "Python 3",
   "language": "python",
   "name": "python3"
  },
  "language_info": {
   "codemirror_mode": {
    "name": "ipython",
    "version": 3
   },
   "file_extension": ".py",
   "mimetype": "text/x-python",
   "name": "python",
   "nbconvert_exporter": "python",
   "pygments_lexer": "ipython3",
   "version": "3.6.5"
  }
 },
 "nbformat": 4,
 "nbformat_minor": 2
}
